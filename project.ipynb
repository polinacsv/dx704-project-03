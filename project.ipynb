{
  "cells": [
    {
      "cell_type": "markdown",
      "metadata": {
        "id": "_avVIGTpvioI"
      },
      "source": [
        "# DX 704 Week 3 Project\n",
        "\n",
        "This week's project will give you practice with optimizing choices for bandit algorithms.\n",
        "You will be given access to the bandit problem via a blackbox object, and you will investigate the bandit rewards to pick a suitable algorithm."
      ]
    },
    {
      "cell_type": "markdown",
      "metadata": {
        "id": "ftRkegOQowWA"
      },
      "source": [
        "The full project description, a template notebook and supporting code are available on GitHub: [Project 3 Materials](https://github.com/bu-cds-dx704/dx704-project-03).\n"
      ]
    },
    {
      "cell_type": "markdown",
      "metadata": {
        "id": "-tPHvNSEdR6h"
      },
      "source": [
        "## Example Code\n",
        "\n",
        "You may find it helpful to refer to these GitHub repositories of Jupyter notebooks for example code.\n",
        "\n",
        "* https://github.com/bu-cds-omds/dx601-examples\n",
        "* https://github.com/bu-cds-omds/dx602-examples\n",
        "* https://github.com/bu-cds-omds/dx603-examples\n",
        "* https://github.com/bu-cds-omds/dx704-examples\n",
        "\n",
        "Any calculations demonstrated in code examples or videos may be found in these notebooks, and you are allowed to copy this example code in your homework answers."
      ]
    },
    {
      "cell_type": "markdown",
      "metadata": {
        "id": "b6VKDAEY8JMI"
      },
      "source": [
        "## Part 1: Pick a Bandit Algorithm\n",
        "\n",
        "Experiment with the multi-armed bandit interface using seed 0 to learn about the distribution of rewards and decide what kind of bandit algorithm will be appropriate.\n",
        "A histogram will likely be helpful."
      ]
    },
    {
      "cell_type": "code",
      "execution_count": 2,
      "metadata": {
        "id": "BCggNE7NpiQN"
      },
      "outputs": [],
      "source": [
        "# DO NOT CHANGE\n",
        "\n",
        "import numpy as np\n",
        "\n",
        "class BanditProblem(object):\n",
        "    def __init__(self, seed):\n",
        "        self.seed = seed\n",
        "        self.rng = np.random.default_rng(seed)\n",
        "\n",
        "        self.num_arms = 3\n",
        "        self.ns = self.rng.integers(low=1, high=10, size=self.num_arms)\n",
        "        self.ps = self.rng.uniform(low=0.2, high=0.4, size=self.num_arms)\n",
        "\n",
        "    def get_num_arms(self):\n",
        "        return self.num_arms\n",
        "\n",
        "    def get_reward(self, arm):\n",
        "        if arm < 0 or arm >= self.num_arms:\n",
        "            raise ValueError(\"Invalid arm\")\n",
        "\n",
        "        x = self.rng.uniform()\n",
        "        x *= self.rng.binomial(self.ns[arm], self.ps[arm])\n",
        "\n",
        "        return x\n"
      ]
    },
    {
      "cell_type": "code",
      "execution_count": 3,
      "metadata": {
        "id": "X99ZQUyhpgak"
      },
      "outputs": [],
      "source": [
        "bandit0 = BanditProblem(0)"
      ]
    },
    {
      "cell_type": "code",
      "execution_count": 4,
      "metadata": {
        "id": "frDtVjt4qATJ"
      },
      "outputs": [
        {
          "data": {
            "text/plain": [
              "3"
            ]
          },
          "execution_count": 4,
          "metadata": {},
          "output_type": "execute_result"
        }
      ],
      "source": [
        "bandit0.get_num_arms()"
      ]
    },
    {
      "cell_type": "code",
      "execution_count": 5,
      "metadata": {
        "id": "sdM9Ec3HqC6h"
      },
      "outputs": [
        {
          "data": {
            "text/plain": [
              "1.8255111545554434"
            ]
          },
          "execution_count": 5,
          "metadata": {},
          "output_type": "execute_result"
        }
      ],
      "source": [
        "bandit0.get_reward(arm=0)"
      ]
    },
    {
      "cell_type": "code",
      "execution_count": null,
      "metadata": {
        "id": "iuQ0jCr_plcZ"
      },
      "outputs": [
        {
          "data": {
            "image/png": "[encoded data removed]",
            "text/plain": [
              "<Figure size 1000x600 with 1 Axes>"
            ]
          },
          "metadata": {},
          "output_type": "display_data"
        },
        {
          "name": "stdout",
          "output_type": "stream",
          "text": [
            "Arm  |  mean    std     p95     max\n",
            "0    | 0.8283  0.8248  2.5340  6.7825\n",
            "1    | 0.6294  0.6656  1.9044  3.9734\n",
            "2    | 0.8917  0.7984  2.5137  4.7381\n",
            "\n",
            "Empirically best arm by mean (seed=0): 2\n"
          ]
        }
      ],
      "source": [
        "# YOUR CHANGES HERE\n",
        "import matplotlib.pyplot as plt\n",
        "\n",
        "rng = np.random.default_rng(0)\n",
        "bandit = bandit0  \n",
        "A = bandit.get_num_arms()\n",
        "\n",
        "def sample_rewards(bandit, arm, n=5000):\n",
        "    return np.array([bandit.get_reward(arm) for _ in range(n)])\n",
        "\n",
        "all_stats = []\n",
        "plt.figure(figsize=(10, 6))\n",
        "\n",
        "for a in range(A):\n",
        "    r = sample_rewards(bandit, a, n=5000)\n",
        "    mean = r.mean()\n",
        "    std = r.std(ddof=1)\n",
        "    p95 = np.percentile(r, 95)\n",
        "    mx = r.max()\n",
        "    all_stats.append((a, mean, std, p95, mx))\n",
        "    \n",
        "    plt.hist(r, bins=40, alpha=0.5, label=f\"arm {a}\")\n",
        "\n",
        "plt.title(\"Bandit reward histograms (seed=0)\")\n",
        "plt.xlabel(\"reward\")\n",
        "plt.ylabel(\"count\")\n",
        "plt.legend()\n",
        "plt.show()\n",
        "\n",
        "print(\"Arm  |  mean    std     p95     max\")\n",
        "for a, mean, std, p95, mx in all_stats:\n",
        "    print(f\"{a:<4} | {mean:0.4f}  {std:0.4f}  {p95:0.4f}  {mx:0.4f}\")\n",
        "\n",
        "best_arm = max(all_stats, key=lambda t: t[1])[0]\n",
        "print(f\"\\nEmpirically best arm by mean (seed=0): {best_arm}\")\n"
      ]
    },
    {
      "cell_type": "markdown",
      "metadata": {
        "id": "s4-3KtNXtzlY"
      },
      "source": [
        "Based on your investigation, pick an appropriate bandit algorithm to implement from the algorithms covered this week.\n",
        "Write a file \"algorithm-choice.txt\" that states your choice and gives a few sentences justifying your choice and rejecting the alternatives.\n",
        "Keep your explanation concise; overly verbose responses will be penalized."
      ]
    },
    {
      "cell_type": "markdown",
      "metadata": {
        "id": "lY_xvfK4rN0C"
      },
      "source": [
        "## Part 2: Implement Bandit\n",
        "\n",
        "Based on your decision, implement an appropriate bandit algorithm and pick 1000 actions using seed 2025002."
      ]
    },
    {
      "cell_type": "code",
      "execution_count": 25,
      "metadata": {
        "id": "kufc5pAPrWTT"
      },
      "outputs": [
        {
          "data": {
            "text/plain": [
              "(   action    reward\n",
              " 0       0  1.575207\n",
              " 1       1  0.000000\n",
              " 2       2  0.000000\n",
              " 3       0  1.804006\n",
              " 4       0  0.432083\n",
              " 5       0  0.508036\n",
              " 6       0  0.000000\n",
              " 7       0  0.410877\n",
              " 8       0  0.779933\n",
              " 9       0  0.657080,\n",
              " 'history.tsv')"
            ]
          },
          "execution_count": 25,
          "metadata": {},
          "output_type": "execute_result"
        }
      ],
      "source": [
        "# YOUR CHANGES HERE\n",
        "\n",
        "import pandas as pd\n",
        "\n",
        "\n",
        "# --- Required seeds ---\n",
        "BANDIT_SEED = 2025002      # fresh bandit for \"live\" run\n",
        "ALGO_SEED = 2025002        # seed the TS sampler for reproducibility\n",
        "\n",
        "# Fresh bandit object per instructions\n",
        "bandit = BanditProblem(BANDIT_SEED)\n",
        "K = bandit.get_num_arms()\n",
        "\n",
        "# Thompson Sampling with Gaussian prior on arm means\n",
        "rng = np.random.default_rng(ALGO_SEED)\n",
        "\n",
        "T = 1000  # number of actions\n",
        "m = np.zeros(K)       # prior mean for each arm\n",
        "v = np.ones(K)        # prior variance for each arm\n",
        "tau2 = 1.0            # assumed reward noise variance scale (heuristic)\n",
        "\n",
        "actions = []\n",
        "rewards = []\n",
        "\n",
        "# (Optional) warm start: one pull per arm to initialize posteriors (common practice)\n",
        "for a in range(K):\n",
        "    r = bandit.get_reward(a)\n",
        "    actions.append(a)\n",
        "    rewards.append(r)\n",
        "    v[a] = 1.0 / (1.0/v[a] + 1.0/tau2)\n",
        "    m[a] = v[a] * (m[a]/v[a] + r/tau2)\n",
        "\n",
        "# Continue TS to reach exactly T actions total\n",
        "for t in range(K, T):\n",
        "    theta_samples = rng.normal(m, np.sqrt(v))\n",
        "    a = int(np.argmax(theta_samples))\n",
        "    r = bandit.get_reward(a)\n",
        "    actions.append(a)\n",
        "    rewards.append(r)\n",
        "    v[a] = 1.0 / (1.0/v[a] + 1.0/tau2)\n",
        "    m[a] = v[a] * (m[a]/v[a] + r/tau2)\n",
        "\n",
        "# Save action-reward pairs\n",
        "history = pd.DataFrame({\"action\": actions, \"reward\": rewards})\n",
        "out_path = \"history.tsv\"\n",
        "history.to_csv(out_path, sep=\"\\t\", index=False)\n",
        "\n",
        "# Show a small preview so you can sanity-check locally\n",
        "history.head(10), out_path\n"
      ]
    },
    {
      "cell_type": "markdown",
      "metadata": {
        "id": "Ho9QihatrZqy"
      },
      "source": [
        "Write a file \"history.tsv\" with columns action and reward in the order that the actions were taken."
      ]
    },
    {
      "cell_type": "code",
      "execution_count": 27,
      "metadata": {},
      "outputs": [
        {
          "data": {
            "text/plain": [
              "('history.tsv', {0: 389, 1: 361, 2: 250}, 3)"
            ]
          },
          "execution_count": 27,
          "metadata": {},
          "output_type": "execute_result"
        }
      ],
      "source": [
        "\n",
        "# --- Settings ---\n",
        "BANDIT_SEED = 2025002          # required \"live\" seed\n",
        "T = 1000                       # number of actions to take\n",
        "NORM_BOUND = 9.0               # max possible reward <= 9 (n in [1,9] and U in [0,1])\n",
        "\n",
        "bandit = BanditProblem(BANDIT_SEED)\n",
        "K = bandit.get_num_arms()\n",
        "\n",
        "# UCB1 state\n",
        "counts = np.zeros(K, dtype=int)\n",
        "means = np.zeros(K, dtype=float)\n",
        "\n",
        "actions = []\n",
        "rewards = []\n",
        "\n",
        "# Warm start: pull each arm once\n",
        "for a in range(K):\n",
        "    r = bandit.get_reward(a)\n",
        "    actions.append(a)\n",
        "    rewards.append(r)\n",
        "    counts[a] = 1\n",
        "    means[a] = r  # keep original-scale mean; normalize only for UCB index\n",
        "\n",
        "# Main UCB1 loop\n",
        "for t in range(K+1, T+1):  # t = total pulls so far (1-indexed)\n",
        "    normalized_means = means / NORM_BOUND\n",
        "    ucbs = normalized_means + np.sqrt(2.0 * np.log(t) / counts)\n",
        "    a = int(np.argmax(ucbs))\n",
        "    r = bandit.get_reward(a)\n",
        "\n",
        "    actions.append(a)\n",
        "    rewards.append(r)\n",
        "\n",
        "    counts[a] += 1\n",
        "    means[a] += (r - means[a]) / counts[a]\n",
        "\n",
        "history = pd.DataFrame({\"action\": actions, \"reward\": rewards})\n",
        "out_path = \"history.tsv\"\n",
        "history.to_csv(out_path, sep=\"\\t\", index=False)\n",
        "\n",
        "# Quick checks\n",
        "counts_per_arm = history[\"action\"].value_counts().sort_index().to_dict()\n",
        "last_100_unique = history[\"action\"].tail(100).nunique()\n",
        "\n",
        "out_path, counts_per_arm, last_100_unique"
      ]
    },
    {
      "cell_type": "markdown",
      "metadata": {
        "id": "fwm-1x3mrfXu"
      },
      "source": [
        "Submit \"history.tsv\" in Gradescope."
      ]
    },
    {
      "cell_type": "markdown",
      "metadata": {
        "id": "xc0xYgCzrmGj"
      },
      "source": [
        "## Part 3: Action Statistics\n",
        "\n",
        "Based on the data from part 2, estimate the expected reward for each arm and write a file \"actions.tsv\" with the columns action, min_reward, mean_reward, max_reward."
      ]
    },
    {
      "cell_type": "code",
      "execution_count": 28,
      "metadata": {
        "id": "a-uAbY03sFna"
      },
      "outputs": [
        {
          "data": {
            "text/plain": [
              "(   action  min_reward  mean_reward  max_reward\n",
              " 0       0         0.0     0.597759    3.761461\n",
              " 1       1         0.0     0.531647    2.988922\n",
              " 2       2         0.0     0.176597    0.966617,\n",
              " 'actions.tsv')"
            ]
          },
          "execution_count": 28,
          "metadata": {},
          "output_type": "execute_result"
        }
      ],
      "source": [
        "# YOUR CHANGES HERE\n",
        "\n",
        "summary = history.groupby(\"action\")[\"reward\"].agg(\n",
        "    min_reward=\"min\",\n",
        "    mean_reward=\"mean\",\n",
        "    max_reward=\"max\"\n",
        ").reset_index()\n",
        "\n",
        "output_path_actions = \"actions.tsv\"\n",
        "summary.to_csv(output_path_actions, sep=\"\\t\", index=False)\n",
        "\n",
        "summary, output_path_actions\n"
      ]
    },
    {
      "cell_type": "markdown",
      "metadata": {
        "id": "kk8s1hpEsHWX"
      },
      "source": [
        "Submit \"actions.tsv\" in Gradescope."
      ]
    },
    {
      "cell_type": "markdown",
      "metadata": {
        "id": "asaIrLTtsKEv"
      },
      "source": [
        "## Part 4: Regret Estimates\n",
        "\n",
        "Calculate the expected regret taking 1000 actions with the following strategies.\n",
        "\n",
        "* uniform: Pick an arm uniformly at random.\n",
        "* just-i: Always pick arm $i$. Do this for $i=0$ to $K-1$ where $K$ is the number of arms.\n",
        "* actual: This should match your output in part 2."
      ]
    },
    {
      "cell_type": "code",
      "execution_count": 29,
      "metadata": {
        "id": "LgCSJKDmso5a"
      },
      "outputs": [
        {
          "data": {
            "text/html": [
              "<div>\n",
              "<style scoped>\n",
              "    .dataframe tbody tr th:only-of-type {\n",
              "        vertical-align: middle;\n",
              "    }\n",
              "\n",
              "    .dataframe tbody tr th {\n",
              "        vertical-align: top;\n",
              "    }\n",
              "\n",
              "    .dataframe thead th {\n",
              "        text-align: right;\n",
              "    }\n",
              "</style>\n",
              "<table border=\"1\" class=\"dataframe\">\n",
              "  <thead>\n",
              "    <tr style=\"text-align: right;\">\n",
              "      <th></th>\n",
              "      <th>strategy</th>\n",
              "      <th>expected_total_reward</th>\n",
              "      <th>expected_regret</th>\n",
              "    </tr>\n",
              "  </thead>\n",
              "  <tbody>\n",
              "    <tr>\n",
              "      <th>0</th>\n",
              "      <td>uniform</td>\n",
              "      <td>1500.00000</td>\n",
              "      <td>500.00000</td>\n",
              "    </tr>\n",
              "    <tr>\n",
              "      <th>1</th>\n",
              "      <td>just-0</td>\n",
              "      <td>1000.00000</td>\n",
              "      <td>1000.00000</td>\n",
              "    </tr>\n",
              "    <tr>\n",
              "      <th>2</th>\n",
              "      <td>just-1</td>\n",
              "      <td>2000.00000</td>\n",
              "      <td>0.00000</td>\n",
              "    </tr>\n",
              "    <tr>\n",
              "      <th>3</th>\n",
              "      <td>just-2</td>\n",
              "      <td>1500.00000</td>\n",
              "      <td>500.00000</td>\n",
              "    </tr>\n",
              "    <tr>\n",
              "      <th>4</th>\n",
              "      <td>actual</td>\n",
              "      <td>468.60202</td>\n",
              "      <td>1531.39798</td>\n",
              "    </tr>\n",
              "  </tbody>\n",
              "</table>\n",
              "</div>"
            ],
            "text/plain": [
              "  strategy  expected_total_reward  expected_regret\n",
              "0  uniform             1500.00000        500.00000\n",
              "1   just-0             1000.00000       1000.00000\n",
              "2   just-1             2000.00000          0.00000\n",
              "3   just-2             1500.00000        500.00000\n",
              "4   actual              468.60202       1531.39798"
            ]
          },
          "execution_count": 29,
          "metadata": {},
          "output_type": "execute_result"
        }
      ],
      "source": [
        "# YOUR CHANGES HERE\n",
        "\n",
        "import numpy as np\n",
        "import pandas as pd\n",
        "\n",
        "# Use the same setup from the previous step\n",
        "T = 1000\n",
        "true_means = np.array([1.0, 2.0, 1.5])\n",
        "mu_star = true_means.max()\n",
        "\n",
        "# Strategy: uniform (each arm equally likely)\n",
        "uniform_mean_per_pull = true_means.mean()\n",
        "uniform_expected_total = T * uniform_mean_per_pull\n",
        "uniform_expected_regret = T * mu_star - uniform_expected_total\n",
        "\n",
        "# Strategy: just-i for each arm\n",
        "just_expected_totals = T * true_means\n",
        "just_expected_regrets = T * mu_star - just_expected_totals\n",
        "\n",
        "# Strategy: actual (use the realized total reward from Part 2 run)\n",
        "actual_total_reward = float(np.sum(history[\"reward\"]))  # from previous run\n",
        "actual_regret = T * mu_star - actual_total_reward\n",
        "\n",
        "# Build results table\n",
        "rows = []\n",
        "\n",
        "rows.append({\n",
        "    \"strategy\": \"uniform\",\n",
        "    \"expected_total_reward\": uniform_expected_total,\n",
        "    \"expected_regret\": uniform_expected_regret\n",
        "})\n",
        "\n",
        "for i, mu in enumerate(true_means):\n",
        "    rows.append({\n",
        "        \"strategy\": f\"just-{i}\",\n",
        "        \"expected_total_reward\": just_expected_totals[i],\n",
        "        \"expected_regret\": just_expected_regrets[i]\n",
        "    })\n",
        "\n",
        "rows.append({\n",
        "    \"strategy\": \"actual\",\n",
        "    \"expected_total_reward\": actual_total_reward,\n",
        "    \"expected_regret\": actual_regret\n",
        "})\n",
        "\n",
        "regret_df = pd.DataFrame(rows)\n",
        "\n",
        "\n",
        "regret_df\n"
      ]
    },
    {
      "cell_type": "code",
      "execution_count": 33,
      "metadata": {},
      "outputs": [
        {
          "name": "stdout",
          "output_type": "stream",
          "text": [
            "   action  min_reward  mean_reward  max_reward\n",
            "0       0         0.0     0.597759    3.761461\n",
            "1       1         0.0     0.531647    2.988922\n",
            "2       2         0.0     0.176597    0.966617\n",
            "  strategy      regret\n",
            "0  uniform  162.424151\n",
            "1   just-0    0.000000\n",
            "2   just-1   66.111437\n",
            "3   just-2  421.161017\n",
            "4   actual  129.156483\n"
          ]
        }
      ],
      "source": [
        "history = pd.read_csv(\"history.tsv\", sep=\"\\t\")\n",
        "\n",
        "actions = history.groupby(\"action\")[\"reward\"].agg(\n",
        "    min_reward=\"min\",\n",
        "    mean_reward=\"mean\",\n",
        "    max_reward=\"max\"\n",
        ").reset_index()\n",
        "\n",
        "actions.to_csv(\"actions.tsv\", sep=\"\\t\", index=False)\n",
        "\n",
        "# Compute regrets using estimated means\n",
        "mean_rewards = actions.set_index(\"action\")[\"mean_reward\"]\n",
        "benchmark_reward = 1000 * mean_rewards.max()\n",
        "\n",
        "# Actual strategy regret\n",
        "actual_total = history[\"reward\"].sum()\n",
        "actual_regret = benchmark_reward - actual_total\n",
        "\n",
        "# Uniform strategy regret\n",
        "uniform_total = 1000 * mean_rewards.mean()\n",
        "uniform_regret = benchmark_reward - uniform_total\n",
        "\n",
        "# Just-i regrets\n",
        "just_regrets = {f\"just-{i}\": benchmark_reward - 1000 * mu\n",
        "                for i, mu in mean_rewards.items()}\n",
        "\n",
        "# Collect results\n",
        "rows = [{\"strategy\": \"uniform\", \"regret\": uniform_regret}]\n",
        "for i in range(len(mean_rewards)):\n",
        "    rows.append({\"strategy\": f\"just-{i}\", \"regret\": just_regrets[f\"just-{i}\"]})\n",
        "rows.append({\"strategy\": \"actual\", \"regret\": actual_regret})\n",
        "\n",
        "strategies = pd.DataFrame(rows)\n",
        "\n",
        "# Save strategies.tsv\n",
        "strategies.to_csv(\"strategies.tsv\", sep=\"\\t\", index=False)\n",
        "\n",
        "print(actions)\n",
        "print(strategies)"
      ]
    },
    {
      "cell_type": "markdown",
      "metadata": {
        "id": "ncXs2IqPsqQO"
      },
      "source": [
        "Write your results to a file \"strategies.tsv\" with the columns strategy and regret."
      ]
    },
    {
      "cell_type": "code",
      "execution_count": null,
      "metadata": {
        "id": "GlYK-oCUtyFm"
      },
      "outputs": [
        {
          "data": {
            "text/plain": [
              "(  strategy      regret\n",
              " 0  uniform   500.00000\n",
              " 1   just-0  1000.00000\n",
              " 2   just-1     0.00000\n",
              " 3   just-2   500.00000\n",
              " 4   actual  1531.39798,\n",
              " 'strategies.tsv')"
            ]
          },
          "execution_count": 30,
          "metadata": {},
          "output_type": "execute_result"
        }
      ],
      "source": [
        "# YOUR CHANGES HERE\n",
        "\n",
        "# strategies_df = regret_df[[\"strategy\", \"expected_regret\"]].rename(columns={\"expected_regret\": \"regret\"})\n",
        "\n",
        "# out_path_strategies = \"strategies.tsv\"\n",
        "# strategies_df.to_csv(out_path_strategies, sep=\"\\t\", index=False)\n",
        "\n",
        "# strategies_df, out_path_strategies\n",
        "\n"
      ]
    },
    {
      "cell_type": "markdown",
      "metadata": {
        "id": "bNs9BJCvtz2N"
      },
      "source": [
        "Submit \"strategies.tsv\" in Gradescope."
      ]
    },
    {
      "cell_type": "markdown",
      "metadata": {
        "id": "lopxdy3lsysb"
      },
      "source": [
        "## Part 5: Acknowledgments\n",
        "\n",
        "Make a file \"acknowledgments.txt\" documenting any outside sources or help on this project.\n",
        "If you discussed this assignment with anyone, please acknowledge them here.\n",
        "If you used any libraries not mentioned in this module's content, please list them with a brief explanation what you used them for.\n",
        "If you used any generative AI tools, please add links to your transcripts below, and any other information that you feel is necessary to comply with the generative AI policy.\n",
        "If no acknowledgements are appropriate, just write none in the file.\n"
      ]
    },
    {
      "cell_type": "markdown",
      "metadata": {
        "id": "H8-GaDpOw06W"
      },
      "source": [
        "Submit \"acknowledgments.txt\" in Gradescope."
      ]
    },
    {
      "cell_type": "markdown",
      "metadata": {
        "id": "_AR_XyZi8N_Q"
      },
      "source": [
        "## Part 6: Code\n",
        "\n",
        "Please submit a Jupyter notebook that can reproduce all your calculations and recreate the previously submitted files."
      ]
    },
    {
      "cell_type": "markdown",
      "metadata": {
        "id": "oXhGo_008M-b"
      },
      "source": [
        "Submit \"project.ipynb\" in Gradescope."
      ]
    }
  ],
  "metadata": {
    "colab": {
      "toc_visible": false
    },
    "kernelspec": {
      "display_name": "Python 3",
      "name": "python3"
    },
    "language_info": {
      "codemirror_mode": {
        "name": "ipython",
        "version": 3
      },
      "file_extension": ".py",
      "mimetype": "text/x-python",
      "name": "python",
      "nbconvert_exporter": "python",
      "pygments_lexer": "ipython3",
      "version": "3.12.1"
    }
  },
  "nbformat": 4,
  "nbformat_minor": 0
}
